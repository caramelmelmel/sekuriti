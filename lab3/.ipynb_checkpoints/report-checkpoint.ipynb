{
 "cells": [
  {
   "cell_type": "markdown",
   "id": "98552dc1",
   "metadata": {},
   "source": [
    "# FCS Lab 3 - MD5, Rainbow Tables"
   ]
  },
  {
   "cell_type": "markdown",
   "id": "43de5595",
   "metadata": {},
   "source": [
    "* Name(s): Leong Yun Qin Melody\n",
    "* Student ID(s): 1004489"
   ]
  },
  {
   "cell_type": "markdown",
   "id": "631a5600",
   "metadata": {},
   "source": [
    "## Part I: Hashing Using MD5\n",
    "\n",
    "* How does the length of the hash correspond to the input string?"
   ]
  },
  {
   "cell_type": "markdown",
   "id": "2b2a2a9f",
   "metadata": {},
   "source": [
    "The length of the hash is constant no matter the length of the input string. Below are some examples that are tested using the command line tool."
   ]
  },
  {
   "cell_type": "code",
   "execution_count": 1,
   "id": "84f3d147",
   "metadata": {},
   "outputs": [
    {
     "name": "stdout",
     "output_type": "stream",
     "text": [
      "3858f62230ac3c915f300c664312c63f  -\n"
     ]
    }
   ],
   "source": [
    "!echo -n \"foobar\" | md5sum"
   ]
  },
  {
   "cell_type": "code",
   "execution_count": 2,
   "id": "a2852f66",
   "metadata": {},
   "outputs": [
    {
     "name": "stdout",
     "output_type": "stream",
     "text": [
      "53efcae9b8f88a4d87dc158b45ef0cf9  -\n"
     ]
    }
   ],
   "source": [
    "!echo -n \"sutdkillsmysouldrn\" | md5sum"
   ]
  },
  {
   "cell_type": "code",
   "execution_count": 3,
   "id": "ce824b4b",
   "metadata": {},
   "outputs": [
    {
     "name": "stdout",
     "output_type": "stream",
     "text": [
      "027e0513a85c4fe55fde0019e4a35118  -\n"
     ]
    }
   ],
   "source": [
    "# convince you further\n",
    "!echo -n \"ahfniequhfr0e24r52479y5-4uehortwjfdjnd\" | md5sum"
   ]
  },
  {
   "cell_type": "markdown",
   "id": "317dc756",
   "metadata": {},
   "source": [
    "* Are there any visible correlations between the hash and the input string?"
   ]
  },
  {
   "cell_type": "markdown",
   "id": "1a3fd4f1",
   "metadata": {},
   "source": [
    "No, there are no visible correlations. The random oracle property states so. For two correlated inputs, m1 and m2, the output is completely not correlated"
   ]
  },
  {
   "cell_type": "markdown",
   "id": "ea6da481",
   "metadata": {},
   "source": [
    "* What are the issues related to the cryptographic weakness of MD5?"
   ]
  },
  {
   "cell_type": "markdown",
   "id": "c843ebb0",
   "metadata": {},
   "source": [
    "Some issues include the fact that using the birthday attack paradox, the probability of a single MD5 collision is 50%. Since the length of the hash output is arbitrarily fixed, any two different messages can produce the same hash value. So, the attacker can violate the preimage resistance cryptographic property."
   ]
  },
  {
   "cell_type": "markdown",
   "id": "de1bb5fb",
   "metadata": {},
   "source": [
    "## Part II: Break Hashes with Brute Force\n",
    "\n",
    "* How much time did you take in total?"
   ]
  },
  {
   "cell_type": "markdown",
   "id": "46e96865",
   "metadata": {},
   "source": [
    "115.49513483047485 seconds"
   ]
  },
  {
   "cell_type": "markdown",
   "id": "d4b84538",
   "metadata": {},
   "source": [
    "* How much time does it take to crack each string, on average?"
   ]
  },
  {
   "cell_type": "code",
   "execution_count": 1,
   "id": "5b5837db",
   "metadata": {},
   "outputs": [
    {
     "name": "stdout",
     "output_type": "stream",
     "text": [
      "7.69967565536499\n"
     ]
    }
   ],
   "source": [
    "#calculate average amount of time to crack each string\n",
    "print(115.49513483047485/15)"
   ]
  },
  {
   "cell_type": "markdown",
   "id": "f8f7f755",
   "metadata": {},
   "source": [
    "7.69967565536499s"
   ]
  },
  {
   "cell_type": "markdown",
   "id": "ab863738",
   "metadata": {},
   "source": [
    "* Is it possible to amortize (gradually write off the initial cost of) the brute forcing attempts?"
   ]
  },
  {
   "cell_type": "markdown",
   "id": "2f1d621d",
   "metadata": {},
   "source": [
    "Yes, it is possible to amortize the brute forcing attempts. The birthday attack paradox states that when storing previous brute force attempts, the time complexity is O(n/2) where n is the number of bits."
   ]
  },
  {
   "cell_type": "markdown",
   "id": "86c5e331",
   "metadata": {},
   "source": [
    "## Part III: Creating Rainbow Tables\n",
    "\n",
    "* Is rcrack faster/slower than your script ex2.py? By how much faster/slower is it?"
   ]
  },
  {
   "cell_type": "code",
   "execution_count": 2,
   "id": "a1f1c883",
   "metadata": {},
   "outputs": [
    {
     "name": "stdout",
     "output_type": "stream",
     "text": [
      "108.75513483047486\n"
     ]
    }
   ],
   "source": [
    "#rcrack is faster by how much\n",
    "print(115.49513483047485 - 6.74)"
   ]
  },
  {
   "cell_type": "markdown",
   "id": "9eddcd56",
   "metadata": {},
   "source": [
    "rcrack is faster. Rcrack is faster by 108.75513483047486 seconds"
   ]
  },
  {
   "cell_type": "markdown",
   "id": "f132b330",
   "metadata": {},
   "source": [
    "* Do you observe any advantages or disadvantages of using rainbowcrack?"
   ]
  },
  {
   "cell_type": "markdown",
   "id": "e0f37641",
   "metadata": {},
   "source": [
    "Advantage: Computation of hashes are fast. Disadvantage: more space neeeded to compute the hashes."
   ]
  },
  {
   "cell_type": "markdown",
   "id": "bb352e9f",
   "metadata": {},
   "source": [
    "## Part IV: Salt\n",
    "\n",
    "* What is the observed differences between your ease of cracking the salted vs the unsalted plaintexts?"
   ]
  },
  {
   "cell_type": "markdown",
   "id": "8615496f",
   "metadata": {},
   "source": [
    "The salted plaintext took longer to crack. The salted plaintext took 6.94 seconds as compared to 6.74 seconds for the unsalted text"
   ]
  },
  {
   "cell_type": "markdown",
   "id": "324857f6",
   "metadata": {},
   "source": [
    "* Report the difference in time observed to crack."
   ]
  },
  {
   "cell_type": "markdown",
   "id": "755a20ea",
   "metadata": {},
   "source": [
    "0.20 seconds"
   ]
  },
  {
   "cell_type": "markdown",
   "id": "dad9dad4",
   "metadata": {},
   "source": [
    "* Explain any differences between salted and non salted rcrack strategies."
   ]
  },
  {
   "cell_type": "markdown",
   "id": "62ccb84b",
   "metadata": {},
   "source": [
    "The salted rcrack requires the rainbow tables to be regenerated unlike that of the nonsalted. As the letters are generated randomly, the bits are generated randomly. Hence, it would be hard to use a rainbow table that is a data structure to store the salted hashes"
   ]
  },
  {
   "cell_type": "markdown",
   "id": "804aabcb",
   "metadata": {},
   "source": [
    "## Part V: Hash Breaking Competition\n",
    "\n",
    "* What is the approach you used to crack the hashes"
   ]
  },
  {
   "cell_type": "markdown",
   "id": "e6cead3e",
   "metadata": {},
   "source": [
    "I used the rainbow table attack approach. Pre compute and check for precomputed hashes. Then use common words, take the MD5 hash and then check"
   ]
  },
  {
   "cell_type": "markdown",
   "id": "1f2c6912",
   "metadata": {},
   "source": [
    "* How you decided or designed your approach"
   ]
  },
  {
   "cell_type": "markdown",
   "id": "5e47ac91",
   "metadata": {},
   "source": [
    "First, I use precomputed existing lookup tables to compute the MD5 password hashing. There are a list of common words without salt. There is a lookup table for such common passwords. We webscrape the words from wikipedia to form the word database. I also use brute force hybrid on the hashes.txt to make the decryption more effective."
   ]
  },
  {
   "cell_type": "markdown",
   "id": "4fef2a29",
   "metadata": {},
   "source": [
    "* Main challenges and limitations of your approach"
   ]
  },
  {
   "cell_type": "markdown",
   "id": "721294a3",
   "metadata": {},
   "source": [
    "Challenge:\n",
    "We noticed as the difficulty level increases, less words can be solved. More often than not, the precomputed lookup tables contain a list of common passwords or phrases that people normally use. Hence, for those hashes that do not have commonly used words, or phrases, the plaintext for these words are unable to be recovered."
   ]
  }
 ],
 "metadata": {
  "interpreter": {
   "hash": "aee8b7b246df8f9039afb4144a1f6fd8d2ca17a180786b69acc140d282b71a49"
  },
  "kernelspec": {
   "display_name": "Python 3",
   "language": "python",
   "name": "python3"
  },
  "language_info": {
   "codemirror_mode": {
    "name": "ipython",
    "version": 3
   },
   "file_extension": ".py",
   "mimetype": "text/x-python",
   "name": "python",
   "nbconvert_exporter": "python",
   "pygments_lexer": "ipython3",
   "version": "3.8.8"
  }
 },
 "nbformat": 4,
 "nbformat_minor": 5
}

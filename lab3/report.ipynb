{
 "cells": [
  {
   "cell_type": "markdown",
   "id": "cheap-criminal",
   "metadata": {},
   "source": [
    "# FCS Lab 3 - MD5, Rainbow Tables"
   ]
  },
  {
   "cell_type": "markdown",
   "id": "union-bradford",
   "metadata": {},
   "source": [
    "* Name(s):\n",
    "* Student ID(s): "
   ]
  },
  {
   "cell_type": "markdown",
   "id": "editorial-oxide",
   "metadata": {},
   "source": [
    "## Part I: Hashing Using MD5\n",
    "\n",
    "* How does the length of the hash correspond to the input string?"
   ]
  },
  {
   "cell_type": "markdown",
   "id": "documented-profit",
   "metadata": {},
   "source": []
  },
  {
   "cell_type": "markdown",
   "id": "conservative-structure",
   "metadata": {},
   "source": [
    "* Are there any visible correlations between the hash and the input string?"
   ]
  },
  {
   "cell_type": "markdown",
   "id": "major-chick",
   "metadata": {},
   "source": []
  },
  {
   "cell_type": "markdown",
   "id": "endangered-accountability",
   "metadata": {},
   "source": [
    "* What are the issues related to the cryptographic weakness of MD5?"
   ]
  },
  {
   "cell_type": "markdown",
   "id": "hindu-campus",
   "metadata": {},
   "source": []
  },
  {
   "cell_type": "markdown",
   "id": "federal-anniversary",
   "metadata": {},
   "source": [
    "## Part II: Break Hashes with Brute Force\n",
    "\n",
    "* How much time did you take in total?"
   ]
  },
  {
   "cell_type": "markdown",
   "id": "statewide-commissioner",
   "metadata": {},
   "source": []
  },
  {
   "cell_type": "markdown",
   "id": "thick-christmas",
   "metadata": {},
   "source": [
    "* How much time does it take to crack each string, on average?"
   ]
  },
  {
   "cell_type": "markdown",
   "id": "respective-shopping",
   "metadata": {},
   "source": []
  },
  {
   "cell_type": "markdown",
   "id": "collaborative-thong",
   "metadata": {},
   "source": [
    "* Is it possible to amortize (gradually write off the initial cost of) the brute forcing attempts?"
   ]
  },
  {
   "cell_type": "markdown",
   "id": "resistant-inspector",
   "metadata": {},
   "source": []
  },
  {
   "cell_type": "markdown",
   "id": "hispanic-adelaide",
   "metadata": {},
   "source": [
    "## Part III: Creating Rainbow Tables\n",
    "\n",
    "* Is rcrack faster/slower than your script ex2.py? By how much faster/slower is it?"
   ]
  },
  {
   "cell_type": "markdown",
   "id": "accessible-teach",
   "metadata": {},
   "source": []
  },
  {
   "cell_type": "markdown",
   "id": "planned-shark",
   "metadata": {},
   "source": [
    "* Do you observe any advantages or disadvantages of using rainbowcrack?"
   ]
  },
  {
   "cell_type": "markdown",
   "id": "static-superior",
   "metadata": {},
   "source": []
  },
  {
   "cell_type": "markdown",
   "id": "after-billion",
   "metadata": {},
   "source": [
    "## Part IV: Salt\n",
    "\n",
    "* What is the observed differences between your ease of cracking the salted vs the unsalted plaintexts?"
   ]
  },
  {
   "cell_type": "markdown",
   "id": "specific-longer",
   "metadata": {},
   "source": []
  },
  {
   "cell_type": "markdown",
   "id": "detected-concert",
   "metadata": {},
   "source": [
    "* Report the difference in time observed to crack."
   ]
  },
  {
   "cell_type": "markdown",
   "id": "enclosed-preliminary",
   "metadata": {},
   "source": []
  },
  {
   "cell_type": "markdown",
   "id": "greater-breeding",
   "metadata": {},
   "source": [
    "* Explain any differences between salted and non salted rcrack strategies."
   ]
  },
  {
   "cell_type": "markdown",
   "id": "exterior-spice",
   "metadata": {},
   "source": []
  },
  {
   "cell_type": "markdown",
   "id": "amino-eligibility",
   "metadata": {},
   "source": [
    "## Part V: Hash Breaking Competition\n",
    "\n",
    "* What is the approach you used to crack the hashes"
   ]
  },
  {
   "cell_type": "markdown",
   "id": "received-associate",
   "metadata": {},
   "source": []
  },
  {
   "cell_type": "markdown",
   "id": "hearing-interaction",
   "metadata": {},
   "source": [
    "* How you decided or designed your approach"
   ]
  },
  {
   "cell_type": "markdown",
   "id": "encouraging-merit",
   "metadata": {},
   "source": []
  },
  {
   "cell_type": "markdown",
   "id": "super-infection",
   "metadata": {},
   "source": [
    "* Main challenges and limitations of your approach"
   ]
  },
  {
   "cell_type": "markdown",
   "id": "static-celtic",
   "metadata": {},
   "source": []
  }
 ],
 "metadata": {
  "kernelspec": {
   "display_name": "Python 3",
   "language": "python",
   "name": "python3"
  },
  "language_info": {
   "codemirror_mode": {
    "name": "ipython",
    "version": 3
   },
   "file_extension": ".py",
   "mimetype": "text/x-python",
   "name": "python",
   "nbconvert_exporter": "python",
   "pygments_lexer": "ipython3",
   "version": "3.9.1"
  }
 },
 "nbformat": 4,
 "nbformat_minor": 5
}

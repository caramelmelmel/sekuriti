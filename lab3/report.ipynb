{
 "cells": [
  {
   "cell_type": "markdown",
   "source": [
    "# FCS Lab 3 - MD5, Rainbow Tables"
   ],
   "metadata": {}
  },
  {
   "cell_type": "markdown",
   "source": [
    "* Name(s): Leong Yun Qin Melody\n",
    "* Student ID(s): 1004489"
   ],
   "metadata": {}
  },
  {
   "cell_type": "markdown",
   "source": [
    "## Part I: Hashing Using MD5\n",
    "\n",
    "* How does the length of the hash correspond to the input string?"
   ],
   "metadata": {}
  },
  {
   "cell_type": "markdown",
   "source": [
    "The length of the hash is constant no matter the length of the input string. Below are some examples that are tested using the command line tool."
   ],
   "metadata": {}
  },
  {
   "cell_type": "code",
   "execution_count": 1,
   "source": [
    "!echo -n \"foobar\" | md5sum"
   ],
   "outputs": [
    {
     "output_type": "stream",
     "name": "stdout",
     "text": [
      "3858f62230ac3c915f300c664312c63f  -\n"
     ]
    }
   ],
   "metadata": {}
  },
  {
   "cell_type": "code",
   "execution_count": 2,
   "source": [
    "!echo -n \"sutdkillsmysouldrn\" | md5sum"
   ],
   "outputs": [
    {
     "output_type": "stream",
     "name": "stdout",
     "text": [
      "53efcae9b8f88a4d87dc158b45ef0cf9  -\n"
     ]
    }
   ],
   "metadata": {}
  },
  {
   "cell_type": "code",
   "execution_count": 3,
   "source": [
    "# convince you further\n",
    "!echo -n \"ahfniequhfr0e24r52479y5-4uehortwjfdjnd\" | md5sum"
   ],
   "outputs": [
    {
     "output_type": "stream",
     "name": "stdout",
     "text": [
      "027e0513a85c4fe55fde0019e4a35118  -\n"
     ]
    }
   ],
   "metadata": {}
  },
  {
   "cell_type": "markdown",
   "source": [
    "* Are there any visible correlations between the hash and the input string?"
   ],
   "metadata": {}
  },
  {
   "cell_type": "markdown",
   "source": [
    "No, there are no visible correlations. The random oracle property states so. For two correlated inputs, m1 and m2, the output is completely not correlated"
   ],
   "metadata": {}
  },
  {
   "cell_type": "markdown",
   "source": [
    "* What are the issues related to the cryptographic weakness of MD5?"
   ],
   "metadata": {}
  },
  {
   "cell_type": "markdown",
   "source": [
    "Some issues include the fact that using the birthday attack paradox, the probability of a single MD5 collision is 50%. Since the length of the hash output is arbitrarily fixed, any two different messages can produce the same hash value. So, the attacker can violate the preimage resistance cryptographic property."
   ],
   "metadata": {}
  },
  {
   "cell_type": "markdown",
   "source": [
    "## Part II: Break Hashes with Brute Force\n",
    "\n",
    "* How much time did you take in total?"
   ],
   "metadata": {}
  },
  {
   "cell_type": "markdown",
   "source": [
    "115.49513483047485 seconds"
   ],
   "metadata": {}
  },
  {
   "cell_type": "markdown",
   "source": [
    "* How much time does it take to crack each string, on average?"
   ],
   "metadata": {}
  },
  {
   "cell_type": "code",
   "execution_count": 1,
   "source": [
    "#calculate average amount of time to crack each string\n",
    "print(115.49513483047485/15)"
   ],
   "outputs": [
    {
     "output_type": "stream",
     "name": "stdout",
     "text": [
      "7.69967565536499\n"
     ]
    }
   ],
   "metadata": {}
  },
  {
   "cell_type": "markdown",
   "source": [
    "7.69967565536499s"
   ],
   "metadata": {}
  },
  {
   "cell_type": "markdown",
   "source": [
    "* Is it possible to amortize (gradually write off the initial cost of) the brute forcing attempts?"
   ],
   "metadata": {}
  },
  {
   "cell_type": "markdown",
   "source": [
    "Yes, it is possible to amortize the brute forcing attempts. The birthday attack paradox states that when storing previous brute force attempts, the time complexity is O(n/2) where n is the number of bits."
   ],
   "metadata": {}
  },
  {
   "cell_type": "markdown",
   "source": [
    "## Part III: Creating Rainbow Tables\n",
    "\n",
    "* Is rcrack faster/slower than your script ex2.py? By how much faster/slower is it?"
   ],
   "metadata": {}
  },
  {
   "cell_type": "code",
   "execution_count": 2,
   "source": [
    "#rcrack is faster by how much\n",
    "print(115.49513483047485 - 6.74)"
   ],
   "outputs": [
    {
     "output_type": "stream",
     "name": "stdout",
     "text": [
      "108.75513483047486\n"
     ]
    }
   ],
   "metadata": {}
  },
  {
   "cell_type": "markdown",
   "source": [
    "rcrack is faster. Rcrack is faster by 108.75513483047486 seconds"
   ],
   "metadata": {}
  },
  {
   "cell_type": "markdown",
   "source": [
    "* Do you observe any advantages or disadvantages of using rainbowcrack?"
   ],
   "metadata": {}
  },
  {
   "cell_type": "markdown",
   "source": [
    "Advantage: Computation of hashes are fast. Disadvantage: more space neeeded to compute the hashes."
   ],
   "metadata": {}
  },
  {
   "cell_type": "markdown",
   "source": [
    "## Part IV: Salt\n",
    "\n",
    "* What is the observed differences between your ease of cracking the salted vs the unsalted plaintexts?"
   ],
   "metadata": {}
  },
  {
   "cell_type": "markdown",
   "source": [
    "The salted plaintext took longer to crack. The salted plaintext took 6.94 seconds as compared to 6.74 seconds for the unsalted text"
   ],
   "metadata": {}
  },
  {
   "cell_type": "markdown",
   "source": [
    "* Report the difference in time observed to crack."
   ],
   "metadata": {}
  },
  {
   "cell_type": "markdown",
   "source": [
    "0.20 seconds"
   ],
   "metadata": {}
  },
  {
   "cell_type": "markdown",
   "source": [
    "* Explain any differences between salted and non salted rcrack strategies."
   ],
   "metadata": {}
  },
  {
   "cell_type": "markdown",
   "source": [
    "The salted rcrack requires the rainbow tables to be regenerated. "
   ],
   "metadata": {}
  },
  {
   "cell_type": "markdown",
   "source": [
    "## Part V: Hash Breaking Competition\n",
    "\n",
    "* What is the approach you used to crack the hashes"
   ],
   "metadata": {}
  },
  {
   "cell_type": "markdown",
   "source": [
    "I used the rainbow table attack approach. Pre compute and check for precomputed hashes. Then use common words, take the MD5 hash and then check"
   ],
   "metadata": {}
  },
  {
   "cell_type": "markdown",
   "source": [
    "* How you decided or designed your approach"
   ],
   "metadata": {}
  },
  {
   "cell_type": "markdown",
   "source": [
    "First, I use precomputed existing lookup tables to compute the MD5 password hashing. There are a list of common words without salt. There is a lookup table for such common passwords. We webscrape the words from wikipedia to form the word database. I also use brute force hybrid on the hashes.txt to make the decryption more effective."
   ],
   "metadata": {}
  },
  {
   "cell_type": "markdown",
   "source": [
    "* Main challenges and limitations of your approach"
   ],
   "metadata": {}
  },
  {
   "cell_type": "markdown",
   "source": [
    "Challenge:\n",
    "We noticed as the difficulty level increases, less words can be solved. More often than not, the precomputed lookup tables contain a list of common passwords or phrases that people normally use. Hence, for those hashes that do not have commonly used words, or phrases, the plaintext for these words are unable to be recovered."
   ],
   "metadata": {}
  }
 ],
 "metadata": {
  "kernelspec": {
   "name": "python3",
   "display_name": "Python 3.9.7 64-bit"
  },
  "language_info": {
   "codemirror_mode": {
    "name": "ipython",
    "version": 3
   },
   "file_extension": ".py",
   "mimetype": "text/x-python",
   "name": "python",
   "nbconvert_exporter": "python",
   "pygments_lexer": "ipython3",
   "version": "3.9.7"
  },
  "interpreter": {
   "hash": "aee8b7b246df8f9039afb4144a1f6fd8d2ca17a180786b69acc140d282b71a49"
  }
 },
 "nbformat": 4,
 "nbformat_minor": 5
}
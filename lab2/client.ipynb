{
 "cells": [
  {
   "cell_type": "markdown",
   "source": [
    "## FCS Lab 2 Submission Report"
   ],
   "metadata": {}
  },
  {
   "cell_type": "markdown",
   "source": [
    "* Name of Student(s): Leong Yun Qin Melody\n",
    "* Student ID(s): 1004489"
   ],
   "metadata": {}
  },
  {
   "cell_type": "code",
   "execution_count": 514,
   "source": [
    "!pip3 install requests"
   ],
   "outputs": [
    {
     "output_type": "stream",
     "name": "stdout",
     "text": [
      "\u001b[33mDEPRECATION: Configuring installation scheme with distutils config files is deprecated and will no longer work in the near future. If you are using a Homebrew or Linuxbrew Python, please see discussion at https://github.com/Homebrew/homebrew-core/issues/76621\u001b[0m\n",
      "Requirement already satisfied: requests in /usr/local/lib/python3.9/site-packages (2.26.0)\n",
      "Requirement already satisfied: urllib3<1.27,>=1.21.1 in /usr/local/lib/python3.9/site-packages (from requests) (1.26.7)\n",
      "Requirement already satisfied: charset-normalizer~=2.0.0 in /usr/local/lib/python3.9/site-packages (from requests) (2.0.6)\n",
      "Requirement already satisfied: certifi>=2017.4.17 in /usr/local/lib/python3.9/site-packages (from requests) (2021.5.30)\n",
      "Requirement already satisfied: idna<4,>=2.5 in /usr/local/lib/python3.9/site-packages (from requests) (3.2)\n"
     ]
    }
   ],
   "metadata": {}
  },
  {
   "cell_type": "code",
   "execution_count": 515,
   "source": [
    "import base64\n",
    "import requests\n",
    "def XOR(a, b):\n",
    "    r = b\"\"\n",
    "    for x, y in zip(a, b):\n",
    "        r += (x ^ y).to_bytes(1, \"big\")\n",
    "    return r\n",
    "class Client:\n",
    "    def __init__(self, endpoint, uid):\n",
    "        self.endpoint = endpoint\n",
    "        self.uid = str(uid).lower().strip()\n",
    "    def post(self, url, data=None):\n",
    "        r = requests.post(url, json=data).json()\n",
    "        if not r[\"success\"]:\n",
    "            print(\"Warning: something might be wrong with the server\")\n",
    "            print(\"If you don't think is your mistake, please report it!\")\n",
    "        return r\n",
    "    def get_story_cipher(self):\n",
    "        url = self.endpoint+\"/story\"\n",
    "        return requests.get(url).json()\n",
    "    def post_story_plaintext(self, solution):\n",
    "        url = self.endpoint+\"/story\"\n",
    "        solution = str(solution).lower().strip()\n",
    "        data = {\"solution\":solution}\n",
    "        return self.post(url, data)\n",
    "    def get_score_msg_cipher(self):\n",
    "        url = self.endpoint+\"/score\"\n",
    "        data = {\"request\":\"get_msg\", \"id\":self.uid}\n",
    "        return self.post(url, data)\n",
    "    def submit_score_msg_cipher(self, cipher_base64):\n",
    "        url = self.endpoint+\"/score\"\n",
    "        data = {\"request\":\"decrypt_msg\", \"id\":self.uid, \"cipher\": cipher_base64}\n",
    "        return self.post(url, data)\n",
    "    def base64_encode_bytes(self, byte_array):\n",
    "        return str(base64.b64encode(byte_array))[2:-1]\n",
    "    def base64_decode_bytes(self, base64_string):\n",
    "        return base64.b64decode(base64_string)"
   ],
   "outputs": [],
   "metadata": {}
  },
  {
   "cell_type": "code",
   "execution_count": 516,
   "source": [
    "endpoint = \"http://35.197.130.121/\"\n",
    "uid = \"1004489\"\n",
    "\n",
    "client = Client(endpoint, uid)"
   ],
   "outputs": [],
   "metadata": {}
  },
  {
   "cell_type": "markdown",
   "source": [
    "## Part I: Story - Substitution Cipher\n",
    "\n",
    "1. GET the cipher for the story\n",
    "2. Crack this with frequency analysis\n",
    "3. POST it back to the server to check (example is provided below)\n",
    "\n",
    "If the response contains `'solution_correct': 'correct'`, then your decryption is correct. Otherwise, a distance will be provided to let you know how far off you are. If you are off by a tiny bit (say, 1 or 2), you can check things like line-ending, extra space at start/end etc. The verification is not case sensitive."
   ],
   "metadata": {}
  },
  {
   "cell_type": "code",
   "execution_count": 517,
   "source": [
    "story_cipher = client.get_story_cipher()[\"cipher\"]\n",
    "print(\"story_cipher:\", story_cipher[:50], \"...\")\n",
    "#write to txt "
   ],
   "outputs": [
    {
     "output_type": "stream",
     "name": "stdout",
     "text": [
      "story_cipher: MXQJ YI IOCFXEWUQH. VEH Q BEEEEEDW, BEEEDW JYCU Y  ...\n"
     ]
    }
   ],
   "metadata": {}
  },
  {
   "cell_type": "code",
   "execution_count": 518,
   "source": [
    "#decrypt with frequency analysis\n",
    "#count number of each type of letters (take the proportion)\n",
    "def count_freq_letters(story_cipher):\n",
    "    #dictionary to map out letter to freq count\n",
    "    letter = {\"A\":0, \"B\":0, \"C\":0, \"D\":0,\"E\":0, \"F\":0,\n",
    "                \"G\":0, \"H\":0, \"I\":0,\"J\":0,\"K\":0,\"L\":0,\"M\":0,\n",
    "                \"N\":0,\"P\":0,\"Q\":0, \"R\":0,\"S\":0,\"T\":0,\"U\":0,\"V\":0, \"W\":0,\"X\":0,\"Y\":0,\"Z\":0}\n",
    "    #loop through the string \n",
    "    for alphabet in story_cipher:\n",
    "        if alphabet in letter.keys():\n",
    "            letter[alphabet] += 1\n",
    "\n",
    "    #find the letter with largest count\n",
    "    Counter = 0\n",
    "    for char, freq_count in letter.items():\n",
    "        #compare and store\n",
    "        if freq_count > Counter:\n",
    "            max_cipher_character = char\n",
    "            Counter = freq_count\n",
    "    #ensure the dict is correct \n",
    "    print(letter)\n",
    "    return f\"The letter appearing the most in the cipher text is {max_cipher_character}\"\n",
    "\n",
    "print(count_freq_letters(story_cipher))\n",
    "\n",
    "#REPLACE the letter U with e       "
   ],
   "outputs": [
    {
     "output_type": "stream",
     "name": "stdout",
     "text": [
      "{'A': 20, 'B': 102, 'C': 70, 'D': 205, 'E': 206, 'F': 43, 'G': 0, 'H': 131, 'I': 198, 'J': 263, 'K': 51, 'L': 29, 'M': 50, 'N': 3, 'P': 1, 'Q': 213, 'R': 35, 'S': 61, 'T': 98, 'U': 305, 'V': 50, 'W': 71, 'X': 160, 'Y': 229, 'Z': 3}\n",
      "The letter appearing the most in the cipher text is U\n"
     ]
    }
   ],
   "metadata": {}
  },
  {
   "cell_type": "code",
   "execution_count": 519,
   "source": [
    "# replace the letter U with e\n",
    "def replace_first_function(story_cipher):\n",
    "    #make sure of original text \n",
    "    #print(f\"{story_cipher} is the original cipher\")\n",
    "    return story_cipher.replace(\"U\",\"e\")\n",
    "#print(replace_first_function(story_cipher))\n",
    "    "
   ],
   "outputs": [],
   "metadata": {}
  },
  {
   "cell_type": "code",
   "execution_count": 520,
   "source": [
    "#replace the Y with I \n",
    "most_freq_with_e = replace_first_function(story_cipher)\n",
    "def replace_single_letter1(most_freq_with_e=most_freq_with_e):\n",
    "    single_1 = most_freq_with_e.replace(\"Y\",\"i\")\n",
    "    return single_1\n",
    "\n",
    "#test first\n",
    "#text = replace_first_function(story_cipher)\n",
    "#text = replace_single_letter1()\n",
    "#print(replace_single_letter1())\n"
   ],
   "outputs": [],
   "metadata": {}
  },
  {
   "cell_type": "code",
   "execution_count": 521,
   "source": [
    "#try Q with A\n",
    "replaced_Y_with_I = replace_single_letter1()\n",
    "def replace_Q_with_A(replace_single_letter1=replaced_Y_with_I):\n",
    "    return replace_single_letter1.replace(\"Q\",\"a\")\n",
    "#print(replace_Q_with_A( ))\n",
    "text = replace_Q_with_A()"
   ],
   "outputs": [],
   "metadata": {}
  },
  {
   "cell_type": "code",
   "execution_count": 522,
   "source": [
    "#try double letter replace II with IS\n",
    "replace_Q_with_A = replace_Q_with_A()\n",
    "def replace_double_IJ(replacing_ii = replace_Q_with_A):\n",
    "    return replacing_ii.replace(\"iJ\",\"it\")\n",
    "text = replace_double_IJ()\n",
    "#print(replace_double_IJ())"
   ],
   "outputs": [],
   "metadata": {}
  },
  {
   "cell_type": "code",
   "execution_count": 523,
   "source": [
    "#replace iI\n",
    "replaced_iJ = replace_double_IJ()\n",
    "def replace_iI(repl = replaced_iJ):\n",
    "    return repl.replace(\"iI\",\"is\")\n",
    "text = replace_iI()\n",
    "print(text)\n"
   ],
   "outputs": [
    {
     "output_type": "stream",
     "name": "stdout",
     "text": [
      "MXaJ is IOCFXEWeaH. VEH a BEEEEEDW, BEEEDW JiCe i XaLe DeLeH REJXeHeT eDWaWiDW COIeBV iD JXis VHaDSXise. i TiT DEJ KDTeHIJaDT MXaJ it is. DEM JXaJ JXe IXEM is XaLiDW itI BaIJ IeaIED, i TeSiTeT JE ViDaBBO WiLe iD, WiLe IOCFXEWeaH a JHO VHEC JXe LeHO IJaHJ. i MEDTeHeT XEM XaLe i CisIeT EKJ ED JXe aDiCe EV JXe TeSaTe aBB JXeIe OeaHI. i XEDeIJBO TiT DEJ ADEM MXaJ JE eNFeSJ MaJSXiDW JXe LeHO ViHIJ eFisETe ADEMiDW aRIEBKJeBO DEJXiDW aREKJ JXe VHaDSXise. JXe IXEM JEOeT MitX CO eCEJiEDI IE CKSX iD JXaJ EFeDiDW IeJFieSe. it eDTeT KF ReiDW EDe EV JXe CEIJ BiVe aVViHCiDW IXEMI EKJ JXeHe. a IJKDDiDW TisFBaO EV iTiESO aDT aSJiED JXaJ is REJX SXaHCiDW aDT SaFJiLaJiDW. it is SEDViTeDJ iD itI IJHeDWJXI aDT FaHaTeI itI MeaADeIIeI FHEKTBO, a IXEM JXaJ is REJX aBB IJOBe aDT aBB IKRIJaDSe. EX RKJ CEIJ EV aBB, it is a JHKe HEBBeH SEaIJeH EV eCEJiEDI, aDT i TE DEJ KIe JXaJ JeHC BiWXJBO. i BaKWXeT, i SHieT, i WEJ VHKIJHaJeT aJ JXe iDeFJitKTe aDT IJKFiTitO EV REJX JXe SXaHaSJeHI aDT JXe SHeaJEHI, RKJ CEIJ EV aBB, i BELeT. MXeD JXe SKHIe EV RaBaB VeBB iD FBaSe, IEDWI IJiBB CaDaWeT JE RHiTWe JXaJ WaF aDT SEDDeSJ KI aBB JEWeJXeH. JXe EDe eCEJiED JXe IXEM DeLeH VaiBI JE TeBiLeH is XOFe. JXe IKHWe EV aTHeDaBiDe aDT eDTEHFXiDI aDT aBB JXe SXeCiSaBI iD OEKH RHaiD MXeDeLeH IECeJXiDW aMeIECe is XaFFeDiDW EDISHeeD is a HaHe JHeaJ iD CEIJ EJXeH aDiCe, RKJ a SEDIJaDJ ESSKHHeDSe iD JXis IXEM. JXe XOFe TEeI ESSaIiEDaBBO VaiB JE TeBiLeH, JXe XiWXeH eNFeSJaJiEDI SaD IECeJiCeI Re EX JEE CKSX, RKJ IJiBB, MXeD OEK XeaH XiRiAi ISHeaC, OEK ADEM IXe CeaDI RKIiDeII aDT ZEiD XeH iD IEDW. aDT JXEIe IEDWI aHe FHeSiseBO MXaJ AeeFI IOCFXEWeaH iD JXe CiDTI EV CaDO aBB JXis MXiBe. i aC DEJ aD iTEB aDiCe FeHIED, i TeIFise CEIJ iTEB aDiCe aDT OeJ. aDT OeJ. JXe CECeDJ i XeaHT JXe IEDWI VEH JXe ViHIJ JiCe HiWXJ JXeHe ED JXe iTEB SEDSeHJ, i MaI eDJXHaBBeT. i ADeM JXaJ HeWaHTBeII EV XEM JXe IXEM JKHDeT EKJ, it MEKBT XaLe WHeaJ CKIiS. SELeHiDW CaDO WeDHeI, JXe IXEM XaI a TiLeHIe FaBeJJe EV IEDWI HaDWiDW VHEC SeBJiS HESA JE eDAa iDIFiHeT JHaSAI, JXeHe is DE IXEHJaWe EV LaHieJO. OeI JXeHe aHe IEDWI JXaJ TE DEJ MEHA MeBB, RKJ JXe EDeI JXaJ HeIEDaJe VaH EKJMeiWX JXe ESSaIiEDaB RaT EDeI.  IOCFXEWeaH XaI JE Re JaAeD iD aI a SECFBeJe FaSAaWe. it JHKBO is CEHe JXaD JXe IKC EV itI FaHJI. BEEAiDW RaSA, OeI i SaD aWHee ED aBB JXe VBaMI, IECe CaZEH, JXe IXEM XaI XaT. OeJ iD IFite EV it aBB, aSHEII IeLeD OeaHI aDT ViLe IeaIEDI. it is MXO i KBJiCaJeBO TeSiTeT iD aMaHTiDW it MitX EDe EV CO HaHe DiDeI. IECeJXiDW JXis IFeSiaB, JXis iDIFiHaJiEDaB, JXis BEDW BaIJiDW is JHKBO aD eNFeHieDSe JE ReXEBT. VEH ReJJeH VEH MEHIe, it is JXe TeViDitiLe aDiCe JXaJ HeFHeIeDJI JXe TeSaTe. it CaO DEJ XaLe eDTeT iD JXe MaO i MaDJeT, aDT it CaO DEJ XaLe JXaJ EDe AisI i MaI BEEAiDW VEH, RKJ it ViBBeT JXe XEBe iD CO XeaHJ, aDT MitX it eDTiDW, JXe WaFiDW MEKDT iD CO IEKB CaO DeLeH XeaB. CaORe, VEH DEM, i MiBB IaO JXaJ JXe IXEM eDTeT MeBB. it MaI DEJ FeHLeHJeT iDJE a PECRie VHaDSXise BiAe EJXeHI, DEH TiT it IJKCRBe XaHT iD itI ViDaB CECeDJ aDT IJHKWWBe JE HeSBaiC itI FaIJ WBEHO. it XaT IXEHJSECiDWI, RKJ JXiDAiDW RaSA, JXe ZEKHDeO JE JXe eDT XaI ReeD a IaJisVOiDW EDe JXHEKWXEKJ. IE MXaJ is IOCFXEWeaH. it is a XORHiT iTEB aDiCe. it is aD aDiCe aREKJ VisJiDW. it is ViLe IeaIEDI aDT IeLeD OeaHI BEDW aDT XaI SaFJiLaJeT JXe XeaHJI EV CaDO. RKJ CEIJ iCFEHJaDJBO, it is ReBieLiDW iD JXe IEDW EV OEKH XeaHJ.\n"
     ]
    }
   ],
   "metadata": {}
  },
  {
   "cell_type": "code",
   "execution_count": 524,
   "source": [
    "#replace the single words with knowledge\n",
    "text = text.replace(\"D\",\"n\")\n",
    "text = text.replace(\"E\",\"o\")\n",
    "text = text.replace(\"W\",\"g\")\n",
    "text = text.replace(\"J\",\"t\")\n",
    "text = text.replace(\"X\",\"h\")\n",
    "text = text.replace(\"M\",\"w\")\n",
    "text = text.replace(\"H\",\"r\")\n",
    "text =text.replace(\"I\",\"s\")\n",
    "text = text.replace(\"B\",\"l\")\n",
    "text =text.replace(\"A\",\"k\")\n",
    "text = text.replace(\"R\",\"b\")\n",
    "text = text.replace(\"T\",\"d\")\n",
    "text = text.replace(\"V\",\"f\")\n",
    "text = text.replace(\"S\",\"c\")\n",
    "#text = text.replace()\n",
    "#text = text.replace(\"Z\",chr(ord(\"Z\")-10))\n",
    "#text = text.replace(\"S\",\"c\")\n",
    "#we see some patter here \n",
    "#everything is 10 characters away in terms of replacing \n",
    "#function to replace \n",
    "def replace_by_letter(text=text):\n",
    "    for character in text:\n",
    "        if character.isupper():\n",
    "            #check if the character is an alphabet after the offset \n",
    "            if chr(ord(character) +10).isalpha():\n",
    "                text = text.replace(character, chr(ord(character) +10).lower())\n",
    "    return text\n",
    "\n",
    "text = replace_by_letter()\n",
    "text = text.replace(\"ina\",\"ing\")\n",
    "text = text.replace(\"gl\",\"al\")\n",
    "    \n",
    "            \n",
    "\n",
    "print(text)"
   ],
   "outputs": [
    {
     "output_type": "stream",
     "name": "stdout",
     "text": [
      "what is symphogear. for a looooong, looong time i have never bothered engaging myself in this franchise. i did not understand what it is. now that the show is having its last season, i decided to finally give in, give symphogear a try from the very start. i wondered how have i missed out on the anime of the decade all these years. i honestly did not know what to expect watching the very first episode knowing absolutely nothing about the franchise. the show toyed with my emotions so much in that opening setpiece. it ended up being one of the most life affirming shows out there. a stunning display of idiocy and action that is both charming and captivating. it is confident in its strengths and parades its weaknesses proudly, a show that is both all style and all substance. oh but most of all, it is a true roller coaster of emotions, and i do not use that term lightly. i laughed, i cried, i got frustrated at the ineptitude and stupidity of both the characters and the creators, but most of all, i loved. when the curse of balal fell in place, songs still managed to bridge that gap and connect us all together. the one emotion the show never fails to deliver is hype. the surge of adrenaline and endorphins and all the chemicals in your brain whenever something awesome is happening onscreen is a rare treat in most other anime, but a constant occurrence in this show. the hype does occasionally fail to deliver, the higher expectations can sometimes be oh too much, but still, when you hear hibiki scream, you know she means business and doin her in song. and those songs are precisely what keeps symphogear in the minds of many all this while. i am not an idol anime person, i despise most idol anime and yet. and yet. the moment i heard the songs for the first time right there on the idol concert, i was enthralled. i knew that regardless of how the show turned out, it would have great music. covering many genres, the show has a diverse palette of songs ranging from celtic rock to enka inspired tracks, there is no shortage of variety. yes there are songs that do not work well, but the ones that resonate far outweigh the occasional bad ones.  symphogear has to be taken in as a complete package. it truly is more than the sum of its parts. looking back, yes i can agree on all the flaws, some mador, the show has had. yet in spite of it all, across seven years and five seasons. it is why i ultimately decided in awarding it with one of my rare nines. something this special, this inspirational, this long lasting is truly an experience to behold. for better for worse, it is the definitive anime that represents the decade. it may not have ended in the way i wanted, and it may not have that one kiss i was looking for, but it filled the hole in my heart, and with it ending, the gaping wound in my soul may never heal. maybe, for now, i will say that the show ended well. it was not perverted into a zombie franchise like others, nor did it stumble hard in its final moment and strugale to reclaim its past alory. it had shortcomings, but thinking back, the dourney to the end has been a satisfying one throughout. so what is symphogear. it is a hybrid idol anime. it is an anime about fisting. it is five seasons and seven years long and has captivated the hearts of many. but most importantly, it is believing in the song of your heart.\n"
     ]
    }
   ],
   "metadata": {}
  },
  {
   "cell_type": "code",
   "execution_count": 525,
   "source": [
    "# example posting a string back to the server\n",
    "\n",
    "\n",
    "client.post_story_plaintext(text)\n",
    "# a distance is provided for you to check how close you are"
   ],
   "outputs": [
    {
     "output_type": "execute_result",
     "data": {
      "text/plain": [
       "{'distance': '5',\n",
       " 'hint': 'it is a substitution cipher; it is obvious when correct',\n",
       " 'solution_correct': 'wrong',\n",
       " 'success': True}"
      ]
     },
     "metadata": {},
     "execution_count": 525
    }
   ],
   "metadata": {}
  },
  {
   "cell_type": "code",
   "execution_count": 526,
   "source": [
    "# you can also load solution from a text file\n",
    "with open(\"./solution.txt\", \"r\") as file:\n",
    "    PART_1_SOLUTION = file.read()\n",
    "part_1_result = client.post_story_plaintext(PART_1_SOLUTION)\n",
    "print(part_1_result)\n",
    "assert part_1_result[\"solution_correct\"] == \"correct\""
   ],
   "outputs": [
    {
     "output_type": "error",
     "ename": "FileNotFoundError",
     "evalue": "[Errno 2] No such file or directory: './solution.txt'",
     "traceback": [
      "\u001b[0;31m---------------------------------------------------------------------------\u001b[0m",
      "\u001b[0;31mFileNotFoundError\u001b[0m                         Traceback (most recent call last)",
      "\u001b[0;32m/var/folders/rx/0tsvgnwx34b5j28v5hzm3qfr0000gn/T/ipykernel_2670/2816329918.py\u001b[0m in \u001b[0;36m<module>\u001b[0;34m\u001b[0m\n\u001b[1;32m      1\u001b[0m \u001b[0;31m# you can also load solution from a text file\u001b[0m\u001b[0;34m\u001b[0m\u001b[0;34m\u001b[0m\u001b[0m\n\u001b[0;32m----> 2\u001b[0;31m \u001b[0;32mwith\u001b[0m \u001b[0mopen\u001b[0m\u001b[0;34m(\u001b[0m\u001b[0;34m\"./solution.txt\"\u001b[0m\u001b[0;34m,\u001b[0m \u001b[0;34m\"r\"\u001b[0m\u001b[0;34m)\u001b[0m \u001b[0;32mas\u001b[0m \u001b[0mfile\u001b[0m\u001b[0;34m:\u001b[0m\u001b[0;34m\u001b[0m\u001b[0;34m\u001b[0m\u001b[0m\n\u001b[0m\u001b[1;32m      3\u001b[0m     \u001b[0mPART_1_SOLUTION\u001b[0m \u001b[0;34m=\u001b[0m \u001b[0mfile\u001b[0m\u001b[0;34m.\u001b[0m\u001b[0mread\u001b[0m\u001b[0;34m(\u001b[0m\u001b[0;34m)\u001b[0m\u001b[0;34m\u001b[0m\u001b[0;34m\u001b[0m\u001b[0m\n\u001b[1;32m      4\u001b[0m \u001b[0mpart_1_result\u001b[0m \u001b[0;34m=\u001b[0m \u001b[0mclient\u001b[0m\u001b[0;34m.\u001b[0m\u001b[0mpost_story_plaintext\u001b[0m\u001b[0;34m(\u001b[0m\u001b[0mPART_1_SOLUTION\u001b[0m\u001b[0;34m)\u001b[0m\u001b[0;34m\u001b[0m\u001b[0;34m\u001b[0m\u001b[0m\n\u001b[1;32m      5\u001b[0m \u001b[0mprint\u001b[0m\u001b[0;34m(\u001b[0m\u001b[0mpart_1_result\u001b[0m\u001b[0;34m)\u001b[0m\u001b[0;34m\u001b[0m\u001b[0;34m\u001b[0m\u001b[0m\n",
      "\u001b[0;31mFileNotFoundError\u001b[0m: [Errno 2] No such file or directory: './solution.txt'"
     ]
    }
   ],
   "metadata": {}
  },
  {
   "cell_type": "markdown",
   "source": [
    "## Part II: Changing the Score Message - OTP"
   ],
   "metadata": {}
  },
  {
   "cell_type": "code",
   "execution_count": null,
   "source": [
    "response = client.get_score_msg_cipher()\n",
    "print(response)"
   ],
   "outputs": [],
   "metadata": {}
  },
  {
   "cell_type": "code",
   "execution_count": null,
   "source": [
    "cipher = client.base64_decode_bytes(response[\"cipher\"])\n",
    "print(cipher)"
   ],
   "outputs": [],
   "metadata": {}
  },
  {
   "cell_type": "code",
   "execution_count": null,
   "source": [
    "encoded_cipher = client.base64_encode_bytes(cipher)\n",
    "client.submit_score_msg_cipher(encoded_cipher)"
   ],
   "outputs": [],
   "metadata": {}
  },
  {
   "cell_type": "code",
   "execution_count": null,
   "source": [
    "new_cipher = hax()\n",
    "encoded_new_cipher = client.base64_encode_bytes(new_cipher)\n",
    "client.submit_score_msg_cipher(encoded_new_cipher)"
   ],
   "outputs": [],
   "metadata": {}
  },
  {
   "cell_type": "code",
   "execution_count": null,
   "source": [],
   "outputs": [],
   "metadata": {}
  }
 ],
 "metadata": {
  "kernelspec": {
   "name": "python3",
   "display_name": "Python 3.9.7 64-bit"
  },
  "language_info": {
   "codemirror_mode": {
    "name": "ipython",
    "version": 3
   },
   "file_extension": ".py",
   "mimetype": "text/x-python",
   "name": "python",
   "nbconvert_exporter": "python",
   "pygments_lexer": "ipython3",
   "version": "3.9.7"
  },
  "interpreter": {
   "hash": "aee8b7b246df8f9039afb4144a1f6fd8d2ca17a180786b69acc140d282b71a49"
  }
 },
 "nbformat": 4,
 "nbformat_minor": 5
}
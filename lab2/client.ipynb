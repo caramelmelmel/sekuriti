{
 "cells": [
  {
   "cell_type": "markdown",
   "source": [
    "## FCS Lab 2 Submission Report"
   ],
   "metadata": {}
  },
  {
   "cell_type": "markdown",
   "source": [
    "* Name of Student(s): Leong Yun Qin Melody\n",
    "* Student ID(s): 1004489"
   ],
   "metadata": {}
  },
  {
   "cell_type": "code",
   "execution_count": null,
   "source": [
    "import base64\n",
    "import requests\n",
    "def XOR(a, b):\n",
    "    r = b\"\"\n",
    "    for x, y in zip(a, b):\n",
    "        r += (x ^ y).to_bytes(1, \"big\")\n",
    "    return r\n",
    "class Client:\n",
    "    def __init__(self, endpoint, uid):\n",
    "        self.endpoint = endpoint\n",
    "        self.uid = str(uid).lower().strip()\n",
    "    def post(self, url, data=None):\n",
    "        r = requests.post(url, json=data).json()\n",
    "        if not r[\"success\"]:\n",
    "            print(\"Warning: something might be wrong with the server\")\n",
    "            print(\"If you don't think is your mistake, please report it!\")\n",
    "        return r\n",
    "    def get_story_cipher(self):\n",
    "        url = self.endpoint+\"/story\"\n",
    "        return requests.get(url).json()\n",
    "    def post_story_plaintext(self, solution):\n",
    "        url = self.endpoint+\"/story\"\n",
    "        solution = str(solution).lower().strip()\n",
    "        data = {\"solution\":solution}\n",
    "        return self.post(url, data)\n",
    "    def get_score_msg_cipher(self):\n",
    "        url = self.endpoint+\"/score\"\n",
    "        data = {\"request\":\"get_msg\", \"id\":self.uid}\n",
    "        return self.post(url, data)\n",
    "    def submit_score_msg_cipher(self, cipher_base64):\n",
    "        url = self.endpoint+\"/score\"\n",
    "        data = {\"request\":\"decrypt_msg\", \"id\":self.uid, \"cipher\": cipher_base64}\n",
    "        return self.post(url, data)\n",
    "    def base64_encode_bytes(self, byte_array):\n",
    "        return str(base64.b64encode(byte_array))[2:-1]\n",
    "    def base64_decode_bytes(self, base64_string):\n",
    "        return base64.b64decode(base64_string)"
   ],
   "outputs": [],
   "metadata": {}
  },
  {
   "cell_type": "code",
   "execution_count": null,
   "source": [
    "endpoint = \"http://35.197.130.121/\"\n",
    "uid = \"1004489\"\n",
    "\n",
    "client = Client(endpoint, uid)"
   ],
   "outputs": [],
   "metadata": {}
  },
  {
   "cell_type": "markdown",
   "source": [
    "## Part I: Story - Substitution Cipher\n",
    "\n",
    "1. GET the cipher for the story\n",
    "2. Crack this with frequency analysis\n",
    "3. POST it back to the server to check (example is provided below)\n",
    "\n",
    "If the response contains `'solution_correct': 'correct'`, then your decryption is correct. Otherwise, a distance will be provided to let you know how far off you are. If you are off by a tiny bit (say, 1 or 2), you can check things like line-ending, extra space at start/end etc. The verification is not case sensitive."
   ],
   "metadata": {}
  },
  {
   "cell_type": "code",
   "execution_count": null,
   "source": [
    "story_cipher = client.get_story_cipher()[\"cipher\"]\n",
    "print(\"story_cipher:\", story_cipher[:50], \"...\")\n",
    "#write to txt "
   ],
   "outputs": [],
   "metadata": {}
  },
  {
   "cell_type": "code",
   "execution_count": null,
   "source": [
    "#decrypt with frequency analysis\n",
    "#count number of each type of letters (take the proportion)\n",
    "def count_freq_letters(story_cipher):\n",
    "    #dictionary to map out letter to freq count\n",
    "    letter = {\"A\":0, \"B\":0, \"C\":0, \"D\":0,\"E\":0, \"F\":0,\n",
    "                \"G\":0, \"H\":0, \"I\":0,\"J\":0,\"K\":0,\"L\":0,\"M\":0,\n",
    "                \"N\":0,\"P\":0,\"Q\":0, \"R\":0,\"S\":0,\"T\":0,\"U\":0,\"V\":0, \"W\":0,\"X\":0,\"Y\":0,\"Z\":0}\n",
    "    #loop through the string \n",
    "    for alphabet in story_cipher:\n",
    "        if alphabet in letter.keys():\n",
    "            letter[alphabet] += 1\n",
    "\n",
    "    #find the letter with largest count\n",
    "    Counter = 0\n",
    "    for char, freq_count in letter.items():\n",
    "        #compare and store\n",
    "        if freq_count > Counter:\n",
    "            max_cipher_character = char\n",
    "            Counter = freq_count\n",
    "    #ensure the dict is correct \n",
    "    print(letter)\n",
    "    return f\"The letter appearing the most in the cipher text is {max_cipher_character}\"\n",
    "\n",
    "print(count_freq_letters(story_cipher))\n",
    "\n",
    "#REPLACE the letter U with e       "
   ],
   "outputs": [],
   "metadata": {}
  },
  {
   "cell_type": "code",
   "execution_count": null,
   "source": [
    "# replace the letter U with e\n",
    "def replace_first_function(story_cipher):\n",
    "    #make sure of original text \n",
    "    #print(f\"{story_cipher} is the original cipher\")\n",
    "    return story_cipher.replace(\"U\",\"e\")\n",
    "#print(replace_first_function(story_cipher))\n",
    "    "
   ],
   "outputs": [],
   "metadata": {}
  },
  {
   "cell_type": "code",
   "execution_count": null,
   "source": [
    "#replace the Y with I \n",
    "most_freq_with_e = replace_first_function(story_cipher)\n",
    "def replace_single_letter1(most_freq_with_e=most_freq_with_e):\n",
    "    single_1 = most_freq_with_e.replace(\"Y\",\"i\")\n",
    "    return single_1\n",
    "\n",
    "#test first\n",
    "#text = replace_first_function(story_cipher)\n",
    "#text = replace_single_letter1()\n",
    "#print(replace_single_letter1())\n"
   ],
   "outputs": [],
   "metadata": {}
  },
  {
   "cell_type": "code",
   "execution_count": null,
   "source": [
    "#try Q with A\n",
    "replaced_Y_with_I = replace_single_letter1()\n",
    "def replace_Q_with_A(replace_single_letter1=replaced_Y_with_I):\n",
    "    return replace_single_letter1.replace(\"Q\",\"a\")\n",
    "#print(replace_Q_with_A( ))\n",
    "text = replace_Q_with_A()\n"
   ],
   "outputs": [],
   "metadata": {}
  },
  {
   "cell_type": "code",
   "execution_count": null,
   "source": [
    "#function for this please work \n",
    "def mapcipher_to_realtext(txt):\n",
    "    ciph_to_real ={\n",
    "        \"A\":\"k\",\n",
    "        \"B\":\"l\",\n",
    "        \"C\":\"m\",\n",
    "        \"D\":\"n\",\n",
    "        \"E\":\"o\",\n",
    "        \"F\":\"p\",\n",
    "        \"H\":\"r\",\n",
    "        \"I\":\"s\",\n",
    "        \"J\":\"t\",\n",
    "        \"K\":\"u\",\n",
    "        \"L\":\"v\",\n",
    "        \"M\":\"w\",\n",
    "        \"N\":\"x\",\n",
    "        \"O\":\"y\",\n",
    "        \"P\":\"z\",\n",
    "        \"R\":\"b\",\n",
    "        \"S\":\"c\",\n",
    "        \"T\":\"d\",\n",
    "        \"V\":\"f\", \n",
    "        \"W\":\"g\",\n",
    "        \"X\":\"h\",\n",
    "        \"Z\":\"j\"\n",
    "    }\n",
    "    for character in txt:\n",
    "        if character in ciph_to_real.keys():\n",
    "            txt =txt.replace(character,ciph_to_real[character])\n",
    "    return txt"
   ],
   "outputs": [],
   "metadata": {}
  },
  {
   "cell_type": "code",
   "execution_count": null,
   "source": [
    "#replace the single words with knowledge\n",
    "text = mapcipher_to_realtext(text)          \n"
   ],
   "outputs": [],
   "metadata": {}
  },
  {
   "cell_type": "code",
   "execution_count": null,
   "source": [
    "# example posting a string back to the server\n",
    "\n",
    "\n",
    "client.post_story_plaintext(text)\n",
    "# a distance is provided for you to check how close you are"
   ],
   "outputs": [],
   "metadata": {}
  },
  {
   "cell_type": "code",
   "execution_count": null,
   "source": [
    "# you can also load solution from a text file\n",
    "with open(\"./solution.txt\", \"r\") as file:\n",
    "    PART_1_SOLUTION = file.read()\n",
    "part_1_result = client.post_story_plaintext(PART_1_SOLUTION)\n",
    "print(part_1_result)\n",
    "assert part_1_result[\"solution_correct\"] == \"correct\""
   ],
   "outputs": [],
   "metadata": {}
  },
  {
   "cell_type": "markdown",
   "source": [
    "## Part II: Changing the Score Message - OTP"
   ],
   "metadata": {}
  },
  {
   "cell_type": "code",
   "execution_count": 739,
   "source": [
    "response = client.get_score_msg_cipher()\n",
    "print(response)"
   ],
   "outputs": [
    {
     "output_type": "stream",
     "name": "stdout",
     "text": [
      "{'cipher': 'KbkbJNdIrSl2Qum1htdDdaVeyKWBGd3nkldyFV7h1vOP7FtuF5UK4YJ+tL4=', 'hint': 'it is a OTP, you will not be able to guess it, find a way to edit the message without the OTP key', 'success': True}\n"
     ]
    }
   ],
   "metadata": {}
  },
  {
   "cell_type": "code",
   "execution_count": 740,
   "source": [
    "cipher = client.base64_decode_bytes(response[\"cipher\"])\n",
    "print(cipher)\n",
    "#convert the message to bytes"
   ],
   "outputs": [
    {
     "output_type": "stream",
     "name": "stdout",
     "text": [
      "b')\\xb9\\x1b$\\xd7H\\xad)vB\\xe9\\xb5\\x86\\xd7Cu\\xa5^\\xc8\\xa5\\x81\\x19\\xdd\\xe7\\x92Wr\\x15^\\xe1\\xd6\\xf3\\x8f\\xec[n\\x17\\x95\\n\\xe1\\x82~\\xb4\\xbe'\n"
     ]
    }
   ],
   "metadata": {}
  },
  {
   "cell_type": "code",
   "execution_count": 741,
   "source": [
    "encoded_cipher = client.base64_encode_bytes(cipher)\n",
    "response = client.submit_score_msg_cipher(encoded_cipher)"
   ],
   "outputs": [],
   "metadata": {}
  },
  {
   "cell_type": "code",
   "execution_count": 737,
   "source": [
    "#new_cipher = hax()\n",
    "#encoded_new_cipher = client.base64_encode_bytes(new_cipher)\n",
    "#client.submit_score_msg_cipher(encoded_new_cipher)"
   ],
   "outputs": [],
   "metadata": {}
  },
  {
   "cell_type": "code",
   "execution_count": null,
   "source": [],
   "outputs": [],
   "metadata": {}
  }
 ],
 "metadata": {
  "kernelspec": {
   "name": "python3",
   "display_name": "Python 3.9.7 64-bit"
  },
  "language_info": {
   "codemirror_mode": {
    "name": "ipython",
    "version": 3
   },
   "file_extension": ".py",
   "mimetype": "text/x-python",
   "name": "python",
   "nbconvert_exporter": "python",
   "pygments_lexer": "ipython3",
   "version": "3.9.7"
  },
  "interpreter": {
   "hash": "aee8b7b246df8f9039afb4144a1f6fd8d2ca17a180786b69acc140d282b71a49"
  }
 },
 "nbformat": 4,
 "nbformat_minor": 5
}
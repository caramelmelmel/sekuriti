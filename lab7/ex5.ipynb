{
 "cells": [
  {
   "cell_type": "code",
   "execution_count": 1,
   "metadata": {},
   "outputs": [
    {
     "name": "stdout",
     "output_type": "stream",
     "text": [
      "Requirement already satisfied: pycryptodome in /opt/anaconda3/lib/python3.8/site-packages (3.11.0)\n"
     ]
    }
   ],
   "source": [
    "!pip3 install pycryptodome"
   ]
  },
  {
   "cell_type": "markdown",
   "metadata": {},
   "source": [
    "Note: For the use of PyCryptoDome, I'm going to make a pull request to their repo for the name change here! For now, use Cryptodome instead of PyCrypto. "
   ]
  },
  {
   "cell_type": "code",
   "execution_count": 14,
   "metadata": {},
   "outputs": [],
   "source": [
    "from Cryptodome.PublicKey.RSA import generate, import_key\n",
    "\n",
    "#gives the public key and private key\n",
    "def write_pem(file_name,key):\n",
    "    f = open(file_name, 'wb')\n",
    "    f.write(key.export_key('PEM'))\n",
    "    f.close()\n",
    "\n",
    "def generate_RSA(bits=1024):\n",
    "    privkey = generate(bits)\n",
    "    pubkey = privkey.publickey()\n",
    "    write_pem('private_key.pem',privkey)\n",
    "    write_pem('public_key.pem',pubkey)\n",
    "\n",
    "\n",
    "#generate_RSA()\n",
    "\n"
   ]
  },
  {
   "cell_type": "code",
   "execution_count": 19,
   "metadata": {},
   "outputs": [],
   "source": [
    "from Cryptodome.Cipher import PKCS1_OAEP\n",
    "\n",
    "def string_to_bytes(string):\n",
    "    return bytes(string,'utf-8')\n",
    "\n",
    "def encrypt_RSA(public_key_file,message):\n",
    "    f = open(public_key_file,'r')\n",
    "    key = import_key(f.read())\n",
    "    f.close()\n",
    "    cipher = PKCS1_OAEP.new(key)\n",
    "    ciphertext = cipher.encrypt(string_to_bytes(open(message).read()))\n",
    "    return ciphertext\n",
    "\n",
    "#ciphertext = encrypt_RSA('public_key.pem','mydata.txt')\n"
   ]
  },
  {
   "cell_type": "code",
   "execution_count": 25,
   "metadata": {},
   "outputs": [
    {
     "data": {
      "text/plain": [
       "b'Hello, this is my data.\\n\\n'"
      ]
     },
     "execution_count": 25,
     "metadata": {},
     "output_type": "execute_result"
    }
   ],
   "source": [
    "def decrypt_RSA(private_key_file, cipher):\n",
    "    f = open(private_key_file,'r')\n",
    "    key = import_key(f.read())\n",
    "    f.close()\n",
    "    ciphertxt = PKCS1_OAEP.new(key)\n",
    "    message = ciphertxt.decrypt(cipher)\n",
    "    return message\n",
    "\n",
    "#decrypt_RSA('private_key.pem',ciphertext)"
   ]
  },
  {
   "cell_type": "code",
   "execution_count": 30,
   "metadata": {},
   "outputs": [
    {
     "data": {
      "text/plain": [
       "b'[\\x15hx\\x7f8x|\\xfe\\x95\\x1e\\x1b\\xd2\\x9f\\xb7\\xa1\\xf8\\x07e\\x81f\\x88\\x88JS)\\x87#\\x19xZ\\x8cK\\x8c\\x14Y\\xb2\\xd6\\xe8\\x16\\n\\xf3@3\\x85\\'\\x90Om/\\xfe(;\\xa3*\\xca\\xd8\\xdc\\xc0\\xdd\\xad\\xb7\\x12j\\xa4H\\xe6J\\xf6,A\\xd1\\xa9\\x89O\\x1fu,\\xd1Nq\\xea^\\x90jL\\x0c\\xeeq\\xeay\\x10q9\\xc4\\xe4\\xea\\x1d=^\\xd3(P\\xbc\"%\\x02\\x14N\\x85\\xf2~!\\xe6o?\\xed\\xc9\\x88/\\xb0d\\xa0\\xbbO\\x87\\xf8='"
      ]
     },
     "execution_count": 30,
     "metadata": {},
     "output_type": "execute_result"
    }
   ],
   "source": [
    "import Cryptodome.Signature.PKCS1_PSS as pss\n",
    "from Cryptodome.Hash import SHA256\n",
    "#returns signature string in base64\n",
    "def sign_data(private_key_file,data):\n",
    "    f = open(private_key_file,'r')\n",
    "    key = import_key(f.read())\n",
    "    f.close()\n",
    "    msg = open(data).read()\n",
    "    hashed = SHA256.new(string_to_bytes(msg))\n",
    "    signature = pss.new(key).sign(hashed)\n",
    "    return signature\n",
    "\n",
    "#sign_data('private_key.pem','mydata.txt')\n"
   ]
  },
  {
   "cell_type": "code",
   "execution_count": 33,
   "metadata": {},
   "outputs": [
    {
     "name": "stdout",
     "output_type": "stream",
     "text": [
      "True\n"
     ]
    }
   ],
   "source": [
    "#returns true or false\n",
    "def verify_sign(public_key_file, sign, data):\n",
    "    f = open(public_key_file,'r')\n",
    "    key = import_key(f.read())\n",
    "    f.close()\n",
    "    msg = open(data).read()\n",
    "    hashed_data = SHA256.new(string_to_bytes(msg))\n",
    "    verifier = pss.new(key)\n",
    "    return verifier.verify(hashed_data, sign)\n",
    "\n",
    "#signature = sign_data('private_key.pem','mydata.txt')\n",
    "\n",
    "#print(verify_sign('public_key.pem',signature,'mydata.txt'))\n",
    "\n",
    "    "
   ]
  },
  {
   "cell_type": "code",
   "execution_count": 37,
   "metadata": {},
   "outputs": [],
   "source": [
    "from sq_mult import square_multiply\n",
    "\n",
    "def enc(msg,priv,mod_p):\n",
    "    return square_multiply(msg,priv,mod_p)\n",
    "\n",
    "def dec(cipher,pub,mod_p):\n",
    "    return square_multiply(cipher,pub,mod_p)\n",
    "\n",
    "def get_key(fname, mode='r'):\n",
    "    key = open(fname, mode)\n",
    "    return import_key(key.read())\n",
    "\n",
    "def int_to_bytes(integer):\n",
    "     return integer.to_bytes((integer.bit_length()+7)//8,'big')\n",
    "\n",
    "def int_from_bytes(xbytes):\n",
    "    return int.from_bytes(xbytes,'big')\n",
    "    "
   ]
  },
  {
   "cell_type": "code",
   "execution_count": 40,
   "metadata": {},
   "outputs": [
    {
     "name": "stdout",
     "output_type": "stream",
     "text": [
      "The signature is authentic\n"
     ]
    }
   ],
   "source": [
    "generate_RSA()\n",
    "ciphertext = encrypt_RSA('public_key.pem','mydata.txt')\n",
    "decrypt_RSA('private_key.pem',ciphertext)\n",
    "signature = sign_data('private_key.pem','mydata.txt')\n",
    "\n",
    "if verify_sign('public_key.pem',signature,'mydata.txt') == True:\n",
    "    print(\"The signature is authentic\")\n",
    "else:\n",
    "    print(\"The signature is not authentic\")\n",
    "\n",
    "i = 100\n",
    "print(\"Encrypting: \\n\")\n",
    "print(i)\n",
    "y = encrypt_RSA('pub_key.pem','somemessage.txt')\n",
    "y_s = encrypt_RSA('pub_key.pem','anothermessage.txt')\n",
    "m = int_to_bytes(int_from_bytes(y)*int_from_bytes(y_s))\n",
    "print(f\"result {y}\")\n",
    "print(f\"modified to {m}\")\n",
    "\n",
    "try:\n",
    "    decrypted = decrypt_RSA('private_key.pem',m)\n",
    "    print(f\"Decrypted to \\n {decrypted}\")\n",
    "\n",
    "except ValueError:\n",
    "    print(ValueError)"
   ]
  }
 ],
 "metadata": {
  "interpreter": {
   "hash": "aee8b7b246df8f9039afb4144a1f6fd8d2ca17a180786b69acc140d282b71a49"
  },
  "kernelspec": {
   "display_name": "Python 3.9.7 64-bit",
   "language": "python",
   "name": "python3"
  },
  "language_info": {
   "codemirror_mode": {
    "name": "ipython",
    "version": 3
   },
   "file_extension": ".py",
   "mimetype": "text/x-python",
   "name": "python",
   "nbconvert_exporter": "python",
   "pygments_lexer": "ipython3",
   "version": "3.9.7"
  },
  "orig_nbformat": 4
 },
 "nbformat": 4,
 "nbformat_minor": 2
}
